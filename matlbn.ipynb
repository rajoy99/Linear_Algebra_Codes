{
 "cells": [
  {
   "cell_type": "code",
   "execution_count": 8,
   "source": [
    "from sympy import sin,cos,Matrix\n",
    "matA= Matrix([[cos(45),-sin(45),0],[sin(45),cos(45),0],[0,0,1]])\n",
    "\n",
    "matA "
   ],
   "outputs": [
    {
     "output_type": "execute_result",
     "data": {
      "text/latex": [
       "$\\displaystyle \\left[\\begin{matrix}\\cos{\\left(45 \\right)} & - \\sin{\\left(45 \\right)} & 0\\\\\\sin{\\left(45 \\right)} & \\cos{\\left(45 \\right)} & 0\\\\0 & 0 & 1\\end{matrix}\\right]$"
      ],
      "text/plain": [
       "Matrix([\n",
       "[cos(45), -sin(45), 0],\n",
       "[sin(45),  cos(45), 0],\n",
       "[      0,        0, 1]])"
      ]
     },
     "metadata": {},
     "execution_count": 8
    }
   ],
   "metadata": {}
  },
  {
   "cell_type": "code",
   "execution_count": 9,
   "source": [
    "matB=Matrix([[0,1,5],[0,1,2],[1,1,1]])\n",
    "matB"
   ],
   "outputs": [
    {
     "output_type": "execute_result",
     "data": {
      "text/latex": [
       "$\\displaystyle \\left[\\begin{matrix}0 & 1 & 5\\\\0 & 1 & 2\\\\1 & 1 & 1\\end{matrix}\\right]$"
      ],
      "text/plain": [
       "Matrix([\n",
       "[0, 1, 5],\n",
       "[0, 1, 2],\n",
       "[1, 1, 1]])"
      ]
     },
     "metadata": {},
     "execution_count": 9
    }
   ],
   "metadata": {}
  },
  {
   "cell_type": "code",
   "execution_count": 10,
   "source": [
    "ans=matA*matB\n",
    "ans"
   ],
   "outputs": [
    {
     "output_type": "execute_result",
     "data": {
      "text/latex": [
       "$\\displaystyle \\left[\\begin{matrix}0 & - \\sin{\\left(45 \\right)} + \\cos{\\left(45 \\right)} & - 2 \\sin{\\left(45 \\right)} + 5 \\cos{\\left(45 \\right)}\\\\0 & \\cos{\\left(45 \\right)} + \\sin{\\left(45 \\right)} & 2 \\cos{\\left(45 \\right)} + 5 \\sin{\\left(45 \\right)}\\\\1 & 1 & 1\\end{matrix}\\right]$"
      ],
      "text/plain": [
       "Matrix([\n",
       "[0, -sin(45) + cos(45), -2*sin(45) + 5*cos(45)],\n",
       "[0,  cos(45) + sin(45),  2*cos(45) + 5*sin(45)],\n",
       "[1,                  1,                      1]])"
      ]
     },
     "metadata": {},
     "execution_count": 10
    }
   ],
   "metadata": {}
  },
  {
   "cell_type": "markdown",
   "source": [
    "<h2> Another Example</h2>"
   ],
   "metadata": {}
  },
  {
   "cell_type": "code",
   "execution_count": 11,
   "source": [
    "A=Matrix([[1,0,5],[0,1,2],[0,0,1]])\n",
    "B=Matrix([[2,0,0],[0,2,0],[0,0,1]])\n",
    "C=Matrix([[1,0,-5],[0,1,-2],[0,0,1]])\n",
    "\n",
    "A=A*B\n",
    "A"
   ],
   "outputs": [
    {
     "output_type": "execute_result",
     "data": {
      "text/latex": [
       "$\\displaystyle \\left[\\begin{matrix}2 & 0 & 5\\\\0 & 2 & 2\\\\0 & 0 & 1\\end{matrix}\\right]$"
      ],
      "text/plain": [
       "Matrix([\n",
       "[2, 0, 5],\n",
       "[0, 2, 2],\n",
       "[0, 0, 1]])"
      ]
     },
     "metadata": {},
     "execution_count": 11
    }
   ],
   "metadata": {}
  },
  {
   "cell_type": "code",
   "execution_count": 12,
   "source": [
    "ans=A*C \n",
    "ans"
   ],
   "outputs": [
    {
     "output_type": "execute_result",
     "data": {
      "text/latex": [
       "$\\displaystyle \\left[\\begin{matrix}2 & 0 & -5\\\\0 & 2 & -2\\\\0 & 0 & 1\\end{matrix}\\right]$"
      ],
      "text/plain": [
       "Matrix([\n",
       "[2, 0, -5],\n",
       "[0, 2, -2],\n",
       "[0, 0,  1]])"
      ]
     },
     "metadata": {},
     "execution_count": 12
    }
   ],
   "metadata": {}
  },
  {
   "cell_type": "markdown",
   "source": [
    "<h1>Yet another Example</h1>"
   ],
   "metadata": {}
  },
  {
   "cell_type": "code",
   "execution_count": 27,
   "source": [
    "import sympy\n",
    "root_2=1/sympy.sqrt(2)\n",
    "Tp=Matrix([[1,0,0,0],[0,1,0,-1],[0,0,1,0],[0,0,0,1]])\n",
    "T_p=Matrix([[1,0,0,0],[0,1,0,1],[0,0,1,0],[0,0,0,1]])\n",
    "R_k=Matrix([[1/sympy.sqrt(2),-1/sympy.sqrt(2),0,0],[1/sympy.sqrt(2),1/sympy.sqrt(2),0,0],[0,0,1,0],[0,0,0,1]])\n",
    "A_v=Matrix([[1,0,0,0],[0,root_2,root_2,0],[0,-root_2,root_2,0],[0,0,0,1]])\n",
    "Av=Matrix([[1,0,0,0],[0,root_2,-root_2,0],[0,root_2,root_2,0],[0,0,0,1]])\n",
    "\n",
    "A_v\n",
    "\n",
    "ans=Tp*A_v*R_k*Av*T_p\n",
    "ans"
   ],
   "outputs": [
    {
     "output_type": "execute_result",
     "data": {
      "text/latex": [
       "$\\displaystyle \\left[\\begin{matrix}\\frac{\\sqrt{2}}{2} & - \\frac{1}{2} & \\frac{1}{2} & - \\frac{1}{2}\\\\\\frac{1}{2} & \\frac{\\sqrt{2}}{4} + \\frac{1}{2} & \\frac{1}{2} - \\frac{\\sqrt{2}}{4} & - \\frac{1}{2} + \\frac{\\sqrt{2}}{4}\\\\- \\frac{1}{2} & \\frac{1}{2} - \\frac{\\sqrt{2}}{4} & \\frac{\\sqrt{2}}{4} + \\frac{1}{2} & \\frac{1}{2} - \\frac{\\sqrt{2}}{4}\\\\0 & 0 & 0 & 1\\end{matrix}\\right]$"
      ],
      "text/plain": [
       "Matrix([\n",
       "[sqrt(2)/2,            -1/2,             1/2,             -1/2],\n",
       "[      1/2, sqrt(2)/4 + 1/2, 1/2 - sqrt(2)/4, -1/2 + sqrt(2)/4],\n",
       "[     -1/2, 1/2 - sqrt(2)/4, sqrt(2)/4 + 1/2,  1/2 - sqrt(2)/4],\n",
       "[        0,               0,               0,                1]])"
      ]
     },
     "metadata": {},
     "execution_count": 27
    }
   ],
   "metadata": {}
  }
 ],
 "metadata": {
  "orig_nbformat": 4,
  "language_info": {
   "name": "python",
   "version": "3.8.5",
   "mimetype": "text/x-python",
   "codemirror_mode": {
    "name": "ipython",
    "version": 3
   },
   "pygments_lexer": "ipython3",
   "nbconvert_exporter": "python",
   "file_extension": ".py"
  },
  "kernelspec": {
   "name": "python3",
   "display_name": "Python 3.8.5 64-bit ('base': conda)"
  },
  "interpreter": {
   "hash": "fe018cfcc422d825bcb95dbfc5bdcb8375fa9baec5cbc0535c3d8fa1380d2765"
  }
 },
 "nbformat": 4,
 "nbformat_minor": 2
}