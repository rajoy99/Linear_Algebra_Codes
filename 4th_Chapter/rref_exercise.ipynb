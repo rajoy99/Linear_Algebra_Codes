{
 "metadata": {
  "language_info": {
   "codemirror_mode": {
    "name": "ipython",
    "version": 3
   },
   "file_extension": ".py",
   "mimetype": "text/x-python",
   "name": "python",
   "nbconvert_exporter": "python",
   "pygments_lexer": "ipython3",
   "version": "3.8.5"
  },
  "orig_nbformat": 2,
  "kernelspec": {
   "name": "python3",
   "display_name": "Python 3.8.5 64-bit ('base': conda)",
   "metadata": {
    "interpreter": {
     "hash": "fe018cfcc422d825bcb95dbfc5bdcb8375fa9baec5cbc0535c3d8fa1380d2765"
    }
   }
  }
 },
 "nbformat": 4,
 "nbformat_minor": 2,
 "cells": [
  {
   "cell_type": "code",
   "execution_count": 37,
   "metadata": {},
   "outputs": [
    {
     "output_type": "execute_result",
     "data": {
      "text/plain": [
       "Matrix([\n",
       "[1, 0,  4],\n",
       "[0, 1, -2]])"
      ],
      "text/latex": "$\\displaystyle \\left[\\begin{matrix}1 & 0 & 4\\\\0 & 1 & -2\\end{matrix}\\right]$"
     },
     "metadata": {},
     "execution_count": 37
    }
   ],
   "source": [
    "\n",
    "from sympy import simplify\n",
    "from sympy.matrices import Matrix\n",
    "\n",
    "# For rational number \n",
    "S=simplify\n",
    "\n",
    "A=Matrix([[3,3,6],\n",
    "[2,S('3/2'),5]])\n",
    "\n",
    "A.rref()[0]"
   ]
  },
  {
   "cell_type": "code",
   "execution_count": 38,
   "metadata": {},
   "outputs": [
    {
     "output_type": "execute_result",
     "data": {
      "text/plain": [
       "Matrix([\n",
       "[3,   3,    6],\n",
       "[0, 3/4, -3/2]])"
      ],
      "text/latex": "$\\displaystyle \\left[\\begin{matrix}3 & 3 & 6\\\\0 & \\frac{3}{4} & - \\frac{3}{2}\\end{matrix}\\right]$"
     },
     "metadata": {},
     "execution_count": 38
    }
   ],
   "source": [
    "A[1,:]= A[0,:] - S('3/2')*A[1,:]\n",
    "A"
   ]
  },
  {
   "cell_type": "code",
   "execution_count": 39,
   "metadata": {},
   "outputs": [
    {
     "output_type": "execute_result",
     "data": {
      "text/plain": [
       "Matrix([\n",
       "[1,   1,    2],\n",
       "[0, 3/4, -3/2]])"
      ],
      "text/latex": "$\\displaystyle \\left[\\begin{matrix}1 & 1 & 2\\\\0 & \\frac{3}{4} & - \\frac{3}{2}\\end{matrix}\\right]$"
     },
     "metadata": {},
     "execution_count": 39
    }
   ],
   "source": [
    "A[0,:]= A[0,:]/3\n",
    "A"
   ]
  },
  {
   "cell_type": "code",
   "execution_count": 40,
   "metadata": {},
   "outputs": [
    {
     "output_type": "execute_result",
     "data": {
      "text/plain": [
       "Matrix([\n",
       "[1, 1,  2],\n",
       "[0, 1, -2]])"
      ],
      "text/latex": "$\\displaystyle \\left[\\begin{matrix}1 & 1 & 2\\\\0 & 1 & -2\\end{matrix}\\right]$"
     },
     "metadata": {},
     "execution_count": 40
    }
   ],
   "source": [
    "A[1,:]= A[1,:]*4/3\n",
    "A"
   ]
  },
  {
   "cell_type": "code",
   "execution_count": 41,
   "metadata": {},
   "outputs": [
    {
     "output_type": "execute_result",
     "data": {
      "text/plain": [
       "Matrix([\n",
       "[1, 0,  4],\n",
       "[0, 1, -2]])"
      ],
      "text/latex": "$\\displaystyle \\left[\\begin{matrix}1 & 0 & 4\\\\0 & 1 & -2\\end{matrix}\\right]$"
     },
     "metadata": {},
     "execution_count": 41
    }
   ],
   "source": [
    "A[0,:]= A[0,:]- A[1,: ]\n",
    "A"
   ]
  },
  {
   "cell_type": "code",
   "execution_count": null,
   "metadata": {},
   "outputs": [],
   "source": []
  }
 ]
}