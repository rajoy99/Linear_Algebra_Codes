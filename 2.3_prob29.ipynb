{
 "cells": [
  {
   "cell_type": "code",
   "execution_count": 4,
   "metadata": {},
   "outputs": [
    {
     "data": {
      "text/plain": [
       "array([[ 1.00000000e+00,  0.00000000e+00,  0.00000000e+00,\n",
       "         0.00000000e+00],\n",
       "       [-1.00000000e+00,  1.00000000e+00,  7.40148683e-17,\n",
       "         0.00000000e+00],\n",
       "       [ 1.00000000e+00, -1.00000000e+00,  1.00000000e+00,\n",
       "         0.00000000e+00],\n",
       "       [-1.00000000e+00,  1.00000000e+00, -1.00000000e+00,\n",
       "         1.00000000e+00]])"
      ]
     },
     "execution_count": 4,
     "metadata": {},
     "output_type": "execute_result"
    }
   ],
   "source": [
    "import numpy as np\n",
    "\n",
    "X=np.array([[1,0,0,0],\n",
    "[1,1,0,0],\n",
    "[1,2,1,0],\n",
    "[1,3,3,1]],dtype=np.int8)\n",
    "\n",
    "Y=np.array([[1,0,0,0],\n",
    "[0,1,0,0],\n",
    "[0,1,1,0],\n",
    "[0,1,2,1]],dtype=np.int8)\n",
    "\n",
    "\n",
    "E=np.matmul(np.linalg.inv(X),Y)\n",
    "\n",
    "E"
   ]
  },
  {
   "cell_type": "code",
   "execution_count": 5,
   "metadata": {},
   "outputs": [
    {
     "data": {
      "text/plain": [
       "array([[ 1.00000000e+00,  0.00000000e+00,  0.00000000e+00,\n",
       "         0.00000000e+00],\n",
       "       [-1.00000000e+00,  1.00000000e+00,  7.40148683e-17,\n",
       "         0.00000000e+00],\n",
       "       [ 1.00000000e+00, -2.00000000e+00,  1.00000000e+00,\n",
       "        -0.00000000e+00],\n",
       "       [-1.00000000e+00,  3.00000000e+00, -3.00000000e+00,\n",
       "         1.00000000e+00]])"
      ]
     },
     "execution_count": 5,
     "metadata": {},
     "output_type": "execute_result"
    }
   ],
   "source": [
    "np.linalg.inv(X)"
   ]
  }
 ],
 "metadata": {
  "interpreter": {
   "hash": "7707060a70e73c870e805475563b3cd4fc9a8cd9674eb2e22ae7b7046e4eb061"
  },
  "kernelspec": {
   "display_name": "Python 3.9.7 ('base')",
   "language": "python",
   "name": "python3"
  },
  "language_info": {
   "codemirror_mode": {
    "name": "ipython",
    "version": 3
   },
   "file_extension": ".py",
   "mimetype": "text/x-python",
   "name": "python",
   "nbconvert_exporter": "python",
   "pygments_lexer": "ipython3",
   "version": "3.9.7"
  },
  "orig_nbformat": 4
 },
 "nbformat": 4,
 "nbformat_minor": 2
}
