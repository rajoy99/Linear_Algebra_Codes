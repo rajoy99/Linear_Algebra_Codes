{
 "cells": [
  {
   "cell_type": "code",
   "execution_count": 1,
   "metadata": {},
   "outputs": [
    {
     "name": "stdout",
     "output_type": "stream",
     "text": [
      "[[ 1. -0. -0.]\n",
      " [ 0.  1.  0.]\n",
      " [ 7.  0.  1.]]\n"
     ]
    }
   ],
   "source": [
    "import numpy as np \n",
    "\n",
    "matrix=np.array([[1,0,0],\n",
    "[0,1,0],\n",
    "[-7,0,1]])\n",
    "\n",
    "print(np.linalg.inv(matrix))"
   ]
  }
 ],
 "metadata": {
  "interpreter": {
   "hash": "7707060a70e73c870e805475563b3cd4fc9a8cd9674eb2e22ae7b7046e4eb061"
  },
  "kernelspec": {
   "display_name": "Python 3.9.7 ('base')",
   "language": "python",
   "name": "python3"
  },
  "language_info": {
   "codemirror_mode": {
    "name": "ipython",
    "version": 3
   },
   "file_extension": ".py",
   "mimetype": "text/x-python",
   "name": "python",
   "nbconvert_exporter": "python",
   "pygments_lexer": "ipython3",
   "version": "3.9.7"
  },
  "orig_nbformat": 4
 },
 "nbformat": 4,
 "nbformat_minor": 2
}
